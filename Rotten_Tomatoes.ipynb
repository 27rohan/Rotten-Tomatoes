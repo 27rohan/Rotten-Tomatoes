{
 "cells": [
  {
   "cell_type": "markdown",
   "metadata": {},
   "source": [
    "### Author: Rohan Thakkar\n",
    "### Credits for data source: DataLab, University of Washington Seattle \n",
    "\n",
    "## Introduction to the problem\n",
    "\n",
    "\n",
    "In this assignment, we'll be analyzing movie reviews in an attempt to determine whether movies are good or bad.  I've downloaded a large number of movie reviews from the [Rotten Tomatoes](http://www.rottentomatoes.com) website, which are available in the file \"reviews.csv\" on Canvas.  I've also put a file \"movies.dat\" on Canvas that contains metadata for ~65,000 different movies\n",
    "\n",
    "It's a meta-review website that aggregates movie reviews from a large number of critics. Note in particular the section on \"Critic Reviews\" at the bottom -- that's the content that has been scraped and put in the reviews.csv file.  Also note that each movie is given a quantitative score on the Tomatometer which is used to classify the movie as either Fresh (good) or Rotten (bad).\n",
    "\n",
    "Our mission is to develop a classifier to determine whether a movie is Fresh or Rotten based on the contents of the reviews given to the movie.  As usual, we'll start out with some exploratory data analysis."
   ]
  },
  {
   "cell_type": "code",
   "execution_count": 1,
   "metadata": {
    "collapsed": false
   },
   "outputs": [],
   "source": [
    "%matplotlib inline\n",
    "import pandas as pd\n",
    "import numpy as np\n",
    "import matplotlib.pyplot as plt\n",
    "\n",
    "\n",
    "import sklearn\n",
    "from  sklearn.cross_validation import cross_val_score\n",
    "from sklearn.cross_validation import train_test_split\n",
    "from sklearn.naive_bayes import MultinomialNB\n",
    "from sklearn.feature_extraction.text import CountVectorizer\n",
    "import statsmodels.formula.api as smf\n",
    "from sklearn.metrics import mean_squared_error\n",
    "from sklearn.preprocessing import StandardScaler\n",
    "from sklearn.decomposition import PCA"
   ]
  },
  {
   "cell_type": "markdown",
   "metadata": {},
   "source": [
    "---\n",
    "\n",
    "## Part 1: Descriptive analysis\n",
    "\n",
    "Let us begin by loading the datasets and dropping rows that have missing data:"
   ]
  },
  {
   "cell_type": "code",
   "execution_count": 2,
   "metadata": {
    "collapsed": false
   },
   "outputs": [],
   "source": [
    "reviews = pd.read_csv('reviews.csv')\n",
    "movies = pd.read_csv(\"movies.dat\", delimiter='\\t')\n",
    "reviews = reviews[~reviews.quote.isnull()]\n",
    "reviews = reviews[reviews.fresh != 'none']\n",
    "reviews = reviews[reviews.quote.str.len() > 0]"
   ]
  },
  {
   "cell_type": "markdown",
   "metadata": {},
   "source": [
    "### 1.1: Basic features of the dataset\n",
    "\n",
    "\n",
    "* How many unique reviews (quotes) are in the `reviews` dataset?\n",
    "* How many unique reviewers (critics) are in the `reviews` dataset?\n",
    "* How many unique movies are in the `reviews` dataset?\n",
    "* How many unique movies are in the *`movies`* dataset?\n",
    "* How many different publications have reviews in the `reviews` dataset?\n"
   ]
  },
  {
   "cell_type": "code",
   "execution_count": 3,
   "metadata": {
    "collapsed": false
   },
   "outputs": [
    {
     "name": "stdout",
     "output_type": "stream",
     "text": [
      "There are 12814 unique reviews (quotes) in the reviews dataset.\n",
      "There are 541 unique reviews (critics) in the reviews dataset.\n",
      "There are 1720 unique movies in the reviews dataset.\n",
      "There are 9405 unique movies in the movies dataset.\n",
      "There are 64 different publications have reviews in the reviews dataset.\n"
     ]
    }
   ],
   "source": [
    "print \"There are %i unique reviews (quotes) in the reviews dataset.\" % len(reviews.quote.unique())\n",
    "\n",
    "print \"There are %i unique reviews (critics) in the reviews dataset.\" % len(reviews.critic.unique())\n",
    "\n",
    "print \"There are %i unique movies in the reviews dataset.\" % len(reviews.title.unique())\n",
    "\n",
    "print \"There are %i unique movies in the movies dataset.\" % len(movies.title.unique())\n",
    "\n",
    "print \"There are %i different publications have reviews in the reviews dataset.\" % len(reviews.publication.unique())"
   ]
  },
  {
   "cell_type": "markdown",
   "metadata": {},
   "source": [
    "### 1.2 Number of reviews per reviewer\n",
    "\n",
    "\n",
    "Using the `reviews` dataset, let us create a histogram showing the distribution of the number of reviews per reviewer"
   ]
  },
  {
   "cell_type": "code",
   "execution_count": 4,
   "metadata": {
    "collapsed": false,
    "scrolled": true
   },
   "outputs": [
    {
     "data": {
      "image/png": "[encoded data removed]",
      "text/plain": [
       "<matplotlib.figure.Figure at 0x1174c9fd0>"
      ]
     },
     "metadata": {},
     "output_type": "display_data"
    }
   ],
   "source": [
    "# Spreading the plot to wider extent\n",
    "plt.figure(figsize=(15,5))\n",
    "\n",
    "# Creating a subplot of matplotlib to incorporate required modifications\n",
    "ax = plt.subplot(111)\n",
    "\n",
    "# Hiding the right and top axes\n",
    "ax.spines['right'].set_visible(False)\n",
    "ax.spines['top'].set_visible(False)\n",
    "\n",
    "# Only show ticks on the left and bottom spines\n",
    "ax.yaxis.set_ticks_position('left')\n",
    "ax.xaxis.set_ticks_position('bottom')\n",
    "\n",
    "\n",
    "# Grouping by critic\n",
    "d = pd.groupby(reviews, by = reviews.critic)\n",
    "\n",
    "# Counting the ones which are non-zero\n",
    "d = d.agg(np.count_nonzero)\n",
    "\n",
    "# Histogram with bin width=1 and range = (0,30)\n",
    "plot = ax.hist(d.title, bins=np.arange(0, 30, 1), color = 'blue', alpha = 0.6)\n",
    "\n",
    "# Calculating Y-axis as log of total number of reviews\n",
    "plt.yscale('log', nonposy='clip')\n",
    "\n",
    "# Labeling the graph\n",
    "plt.xlabel(\"Reviewer\")\n",
    "plt.ylabel(\"Logarithm of count of reviews\")\n",
    "plt.title(\"Log of total reviews v/s Reviewer\")\n",
    "\n",
    "plt.show()"
   ]
  },
  {
   "cell_type": "markdown",
   "metadata": {},
   "source": [
    "### 1.3 Zoom in on a few reviewers\n",
    "Find the 30 critics with the most reviews, and list their names in a table along with (a) the name of the publication they work for, (b) the date of their first review, and (c) the date of their last review"
   ]
  },
  {
   "cell_type": "code",
   "execution_count": 5,
   "metadata": {
    "collapsed": false
   },
   "outputs": [
    {
     "name": "stderr",
     "output_type": "stream",
     "text": [
      "/Users/rohanmanojthakkar/anaconda/lib/python2.7/site-packages/ipykernel/__main__.py:2: FutureWarning: sort(columns=....) is deprecated, use sort_values(by=.....)\n",
      "  from ipykernel import kernelapp as app\n"
     ]
    },
    {
     "data": {
      "text/html": [
       "<div>\n",
       "<table border=\"1\" class=\"dataframe\">\n",
       "  <thead>\n",
       "    <tr style=\"text-align: right;\">\n",
       "      <th></th>\n",
       "      <th>critic</th>\n",
       "      <th>pub</th>\n",
       "      <th>first</th>\n",
       "      <th>last</th>\n",
       "      <th>count</th>\n",
       "    </tr>\n",
       "  </thead>\n",
       "  <tbody>\n",
       "    <tr>\n",
       "      <th>0</th>\n",
       "      <td>Roger Ebert</td>\n",
       "      <td>Chicago Sun-Times</td>\n",
       "      <td>2000-01-01 00:00:00</td>\n",
       "      <td>2013-06-11 00:00:00</td>\n",
       "      <td>1150</td>\n",
       "    </tr>\n",
       "    <tr>\n",
       "      <th>1</th>\n",
       "      <td>James Berardinelli</td>\n",
       "      <td>ReelViews</td>\n",
       "      <td>1800-01-01 00:00:00</td>\n",
       "      <td>2012-02-07 00:00:00</td>\n",
       "      <td>833</td>\n",
       "    </tr>\n",
       "    <tr>\n",
       "      <th>2</th>\n",
       "      <td>Janet Maslin</td>\n",
       "      <td>New York Times</td>\n",
       "      <td>2000-01-01 00:00:00</td>\n",
       "      <td>2010-09-07 00:00:00</td>\n",
       "      <td>526</td>\n",
       "    </tr>\n",
       "    <tr>\n",
       "      <th>3</th>\n",
       "      <td>Variety Staff</td>\n",
       "      <td>Variety</td>\n",
       "      <td>2001-02-13 00:00:00</td>\n",
       "      <td>2012-08-15 00:00:00</td>\n",
       "      <td>449</td>\n",
       "    </tr>\n",
       "    <tr>\n",
       "      <th>4</th>\n",
       "      <td>Jonathan Rosenbaum</td>\n",
       "      <td>Chicago Reader</td>\n",
       "      <td>1988-07-11 00:00:00</td>\n",
       "      <td>2013-10-22 00:00:00</td>\n",
       "      <td>420</td>\n",
       "    </tr>\n",
       "    <tr>\n",
       "      <th>5</th>\n",
       "      <td>Desson Thomson</td>\n",
       "      <td>Washington Post</td>\n",
       "      <td>2000-01-01 00:00:00</td>\n",
       "      <td>2012-10-08 00:00:00</td>\n",
       "      <td>373</td>\n",
       "    </tr>\n",
       "    <tr>\n",
       "      <th>6</th>\n",
       "      <td>Geoff Andrew</td>\n",
       "      <td>Time Out</td>\n",
       "      <td>2005-08-11 00:00:00</td>\n",
       "      <td>2012-04-05 00:00:00</td>\n",
       "      <td>361</td>\n",
       "    </tr>\n",
       "    <tr>\n",
       "      <th>7</th>\n",
       "      <td>Dave Kehr</td>\n",
       "      <td>New York Daily News</td>\n",
       "      <td>2000-01-01 00:00:00</td>\n",
       "      <td>2013-11-20 00:00:00</td>\n",
       "      <td>360</td>\n",
       "    </tr>\n",
       "    <tr>\n",
       "      <th>8</th>\n",
       "      <td>Kenneth Turan</td>\n",
       "      <td>Los Angeles Times</td>\n",
       "      <td>2000-01-01 00:00:00</td>\n",
       "      <td>2013-10-05 00:00:00</td>\n",
       "      <td>282</td>\n",
       "    </tr>\n",
       "    <tr>\n",
       "      <th>9</th>\n",
       "      <td>Mick LaSalle</td>\n",
       "      <td>San Francisco Chronicle</td>\n",
       "      <td>2000-01-01 00:00:00</td>\n",
       "      <td>2009-11-25 00:00:00</td>\n",
       "      <td>280</td>\n",
       "    </tr>\n",
       "    <tr>\n",
       "      <th>10</th>\n",
       "      <td>Owen Gleiberman</td>\n",
       "      <td>Entertainment Weekly</td>\n",
       "      <td>1800-01-01 00:00:00</td>\n",
       "      <td>2011-09-07 00:00:00</td>\n",
       "      <td>241</td>\n",
       "    </tr>\n",
       "    <tr>\n",
       "      <th>11</th>\n",
       "      <td>Rita Kempley</td>\n",
       "      <td>Washington Post</td>\n",
       "      <td>2000-01-01 00:00:00</td>\n",
       "      <td>2013-11-02 00:00:00</td>\n",
       "      <td>236</td>\n",
       "    </tr>\n",
       "    <tr>\n",
       "      <th>12</th>\n",
       "      <td>Joe Baltake</td>\n",
       "      <td>Sacramento Bee</td>\n",
       "      <td>2000-01-01 00:00:00</td>\n",
       "      <td>2013-08-04 00:00:00</td>\n",
       "      <td>231</td>\n",
       "    </tr>\n",
       "    <tr>\n",
       "      <th>13</th>\n",
       "      <td>Todd McCarthy</td>\n",
       "      <td>Variety</td>\n",
       "      <td>2000-01-01 00:00:00</td>\n",
       "      <td>2012-10-09 00:00:00</td>\n",
       "      <td>223</td>\n",
       "    </tr>\n",
       "    <tr>\n",
       "      <th>14</th>\n",
       "      <td>Vincent Canby</td>\n",
       "      <td>New York Times</td>\n",
       "      <td>2000-01-01 00:00:00</td>\n",
       "      <td>2013-07-29 00:00:00</td>\n",
       "      <td>207</td>\n",
       "    </tr>\n",
       "    <tr>\n",
       "      <th>15</th>\n",
       "      <td>Hal Hinson</td>\n",
       "      <td>Washington Post</td>\n",
       "      <td>2000-01-01 00:00:00</td>\n",
       "      <td>2013-06-26 00:00:00</td>\n",
       "      <td>174</td>\n",
       "    </tr>\n",
       "    <tr>\n",
       "      <th>16</th>\n",
       "      <td>Susan Stark</td>\n",
       "      <td>Detroit News</td>\n",
       "      <td>2000-01-01 00:00:00</td>\n",
       "      <td>2002-10-25 00:00:00</td>\n",
       "      <td>167</td>\n",
       "    </tr>\n",
       "    <tr>\n",
       "      <th>17</th>\n",
       "      <td>Stephen Holden</td>\n",
       "      <td>New York Times</td>\n",
       "      <td>2000-01-01 00:00:00</td>\n",
       "      <td>2009-02-06 00:00:00</td>\n",
       "      <td>166</td>\n",
       "    </tr>\n",
       "    <tr>\n",
       "      <th>18</th>\n",
       "      <td>Derek Adams</td>\n",
       "      <td>Time Out</td>\n",
       "      <td>2006-01-26 00:00:00</td>\n",
       "      <td>2009-10-04 00:00:00</td>\n",
       "      <td>154</td>\n",
       "    </tr>\n",
       "    <tr>\n",
       "      <th>19</th>\n",
       "      <td>Kevin Thomas</td>\n",
       "      <td>Los Angeles Times</td>\n",
       "      <td>2000-01-01 00:00:00</td>\n",
       "      <td>2013-11-02 00:00:00</td>\n",
       "      <td>145</td>\n",
       "    </tr>\n",
       "    <tr>\n",
       "      <th>20</th>\n",
       "      <td>Peter Stack</td>\n",
       "      <td>San Francisco Chronicle</td>\n",
       "      <td>2000-01-01 00:00:00</td>\n",
       "      <td>2002-06-18 00:00:00</td>\n",
       "      <td>138</td>\n",
       "    </tr>\n",
       "    <tr>\n",
       "      <th>21</th>\n",
       "      <td>Bosley Crowther</td>\n",
       "      <td>New York Times</td>\n",
       "      <td>2000-01-01 00:00:00</td>\n",
       "      <td>2008-05-06 00:00:00</td>\n",
       "      <td>137</td>\n",
       "    </tr>\n",
       "    <tr>\n",
       "      <th>22</th>\n",
       "      <td>Rick Groen</td>\n",
       "      <td>Globe and Mail</td>\n",
       "      <td>2002-03-19 00:00:00</td>\n",
       "      <td>2009-08-14 00:00:00</td>\n",
       "      <td>129</td>\n",
       "    </tr>\n",
       "    <tr>\n",
       "      <th>23</th>\n",
       "      <td>Edward Guthmann</td>\n",
       "      <td>San Francisco Chronicle</td>\n",
       "      <td>2000-01-01 00:00:00</td>\n",
       "      <td>2003-04-04 00:00:00</td>\n",
       "      <td>121</td>\n",
       "    </tr>\n",
       "    <tr>\n",
       "      <th>24</th>\n",
       "      <td>Lisa Schwarzbaum</td>\n",
       "      <td>Entertainment Weekly</td>\n",
       "      <td>1979-01-01 00:00:00</td>\n",
       "      <td>2012-08-15 00:00:00</td>\n",
       "      <td>117</td>\n",
       "    </tr>\n",
       "    <tr>\n",
       "      <th>25</th>\n",
       "      <td>Liam Lacey</td>\n",
       "      <td>Globe and Mail</td>\n",
       "      <td>2001-08-24 00:00:00</td>\n",
       "      <td>2012-04-04 00:00:00</td>\n",
       "      <td>111</td>\n",
       "    </tr>\n",
       "    <tr>\n",
       "      <th>26</th>\n",
       "      <td>Emanuel Levy</td>\n",
       "      <td>Variety</td>\n",
       "      <td>2000-01-01 00:00:00</td>\n",
       "      <td>2010-08-06 00:00:00</td>\n",
       "      <td>110</td>\n",
       "    </tr>\n",
       "    <tr>\n",
       "      <th>27</th>\n",
       "      <td>Richard Schickel</td>\n",
       "      <td>The Atlantic</td>\n",
       "      <td>2000-01-01 00:00:00</td>\n",
       "      <td>2013-08-05 00:00:00</td>\n",
       "      <td>106</td>\n",
       "    </tr>\n",
       "    <tr>\n",
       "      <th>28</th>\n",
       "      <td>Richard Corliss</td>\n",
       "      <td>TIME Magazine</td>\n",
       "      <td>2003-12-16 00:00:00</td>\n",
       "      <td>2013-11-06 00:00:00</td>\n",
       "      <td>104</td>\n",
       "    </tr>\n",
       "    <tr>\n",
       "      <th>29</th>\n",
       "      <td>Michael Wilmington</td>\n",
       "      <td>Los Angeles Times</td>\n",
       "      <td>2000-01-01 00:00:00</td>\n",
       "      <td>2013-11-21 00:00:00</td>\n",
       "      <td>103</td>\n",
       "    </tr>\n",
       "  </tbody>\n",
       "</table>\n",
       "</div>"
      ],
      "text/plain": [
       "                critic                      pub                first  \\\n",
       "0          Roger Ebert        Chicago Sun-Times  2000-01-01 00:00:00   \n",
       "1   James Berardinelli                ReelViews  1800-01-01 00:00:00   \n",
       "2         Janet Maslin           New York Times  2000-01-01 00:00:00   \n",
       "3        Variety Staff                  Variety  2001-02-13 00:00:00   \n",
       "4   Jonathan Rosenbaum           Chicago Reader  1988-07-11 00:00:00   \n",
       "5       Desson Thomson          Washington Post  2000-01-01 00:00:00   \n",
       "6         Geoff Andrew                 Time Out  2005-08-11 00:00:00   \n",
       "7            Dave Kehr      New York Daily News  2000-01-01 00:00:00   \n",
       "8        Kenneth Turan        Los Angeles Times  2000-01-01 00:00:00   \n",
       "9         Mick LaSalle  San Francisco Chronicle  2000-01-01 00:00:00   \n",
       "10     Owen Gleiberman     Entertainment Weekly  1800-01-01 00:00:00   \n",
       "11        Rita Kempley          Washington Post  2000-01-01 00:00:00   \n",
       "12         Joe Baltake           Sacramento Bee  2000-01-01 00:00:00   \n",
       "13       Todd McCarthy                  Variety  2000-01-01 00:00:00   \n",
       "14       Vincent Canby           New York Times  2000-01-01 00:00:00   \n",
       "15          Hal Hinson          Washington Post  2000-01-01 00:00:00   \n",
       "16         Susan Stark             Detroit News  2000-01-01 00:00:00   \n",
       "17      Stephen Holden           New York Times  2000-01-01 00:00:00   \n",
       "18         Derek Adams                 Time Out  2006-01-26 00:00:00   \n",
       "19        Kevin Thomas        Los Angeles Times  2000-01-01 00:00:00   \n",
       "20         Peter Stack  San Francisco Chronicle  2000-01-01 00:00:00   \n",
       "21     Bosley Crowther           New York Times  2000-01-01 00:00:00   \n",
       "22          Rick Groen           Globe and Mail  2002-03-19 00:00:00   \n",
       "23     Edward Guthmann  San Francisco Chronicle  2000-01-01 00:00:00   \n",
       "24    Lisa Schwarzbaum     Entertainment Weekly  1979-01-01 00:00:00   \n",
       "25          Liam Lacey           Globe and Mail  2001-08-24 00:00:00   \n",
       "26        Emanuel Levy                  Variety  2000-01-01 00:00:00   \n",
       "27    Richard Schickel             The Atlantic  2000-01-01 00:00:00   \n",
       "28     Richard Corliss            TIME Magazine  2003-12-16 00:00:00   \n",
       "29  Michael Wilmington        Los Angeles Times  2000-01-01 00:00:00   \n",
       "\n",
       "                   last count  \n",
       "0   2013-06-11 00:00:00  1150  \n",
       "1   2012-02-07 00:00:00   833  \n",
       "2   2010-09-07 00:00:00   526  \n",
       "3   2012-08-15 00:00:00   449  \n",
       "4   2013-10-22 00:00:00   420  \n",
       "5   2012-10-08 00:00:00   373  \n",
       "6   2012-04-05 00:00:00   361  \n",
       "7   2013-11-20 00:00:00   360  \n",
       "8   2013-10-05 00:00:00   282  \n",
       "9   2009-11-25 00:00:00   280  \n",
       "10  2011-09-07 00:00:00   241  \n",
       "11  2013-11-02 00:00:00   236  \n",
       "12  2013-08-04 00:00:00   231  \n",
       "13  2012-10-09 00:00:00   223  \n",
       "14  2013-07-29 00:00:00   207  \n",
       "15  2013-06-26 00:00:00   174  \n",
       "16  2002-10-25 00:00:00   167  \n",
       "17  2009-02-06 00:00:00   166  \n",
       "18  2009-10-04 00:00:00   154  \n",
       "19  2013-11-02 00:00:00   145  \n",
       "20  2002-06-18 00:00:00   138  \n",
       "21  2008-05-06 00:00:00   137  \n",
       "22  2009-08-14 00:00:00   129  \n",
       "23  2003-04-04 00:00:00   121  \n",
       "24  2012-08-15 00:00:00   117  \n",
       "25  2012-04-04 00:00:00   111  \n",
       "26  2010-08-06 00:00:00   110  \n",
       "27  2013-08-05 00:00:00   106  \n",
       "28  2013-11-06 00:00:00   104  \n",
       "29  2013-11-21 00:00:00   103  "
      ]
     },
     "execution_count": 5,
     "metadata": {},
     "output_type": "execute_result"
    }
   ],
   "source": [
    "## Sorting in descending order by number of reviews\n",
    "e = d.sort(['title'],ascending = [False])\n",
    "\n",
    "## Index is the name of critic\n",
    "index = e.index[xrange(30)]\n",
    "\n",
    "## To find first date\n",
    "f = pd.groupby(reviews, by = reviews.critic).agg(np.min)\n",
    "\n",
    "## To find last date\n",
    "g = pd.groupby(reviews, by = reviews.critic).agg(np.max)\n",
    "\n",
    "## To find number of reviews\n",
    "h = pd.groupby(reviews, by = reviews.critic).count()\n",
    "\n",
    "first= []\n",
    "last = []\n",
    "pub = []\n",
    "total = []\n",
    "for i in index:\n",
    "    first.append(f.review_date[f.index == i])\n",
    "    last.append(g.review_date[g.index == i])\n",
    "    # max since 'Roger Ebert' worked for more than 1 publication in his career\n",
    "    pub.append(reviews.publication[reviews.critic==i].max())\n",
    "    total.append(h.title[h.index==i])\n",
    "\n",
    "## Clubbing the columns\n",
    "final = np.column_stack((index,pub,first, last,total))  \n",
    "\n",
    "## To data frame\n",
    "yolo = pd.DataFrame(final)  \n",
    "\n",
    "# Renaming columns\n",
    "yolo.columns=['critic','pub','first','last','count']\n",
    "\n",
    "# Displaying resultant data frame\n",
    "yolo"
   ]
  },
  {
   "cell_type": "markdown",
   "metadata": {},
   "source": [
    "### 1.4 Ratings over time\n",
    "\n",
    "Using the `movies` dataset, create a plot that shows how the average rating per movie (rtAllCriticsRating) has evolved over time.  Do this by creating a scatterplot where the x-axis is the year in which the movie was released and the y-axis is rtAllCriticsRating.  Drop movies with 0 or unknown values to avoid biasing our results.  Then, create a scatterplot that has one <year,rating> point for each remaining movie, and pick an appropriate size/color/transparency for these points to ensure that the graph looks professional.  In other words, do not simply use the default settings, as this will produce a dense mess of dots that will be hard to interpret.  Finally, overlay on this scatterplot a line graph in orange showing how the average movie rating (the average of rtAllCriticsRating across all movies in a year) has changed over time."
   ]
  },
  {
   "cell_type": "code",
   "execution_count": 6,
   "metadata": {
    "collapsed": false
   },
   "outputs": [
    {
     "name": "stderr",
     "output_type": "stream",
     "text": [
      "/Users/rohanmanojthakkar/anaconda/lib/python2.7/site-packages/ipykernel/__main__.py:2: FutureWarning: convert_objects is deprecated.  Use the data-type specific converters pd.to_datetime, pd.to_timedelta and pd.to_numeric.\n",
      "  from ipykernel import kernelapp as app\n"
     ]
    }
   ],
   "source": [
    "# Converting rtAllCriticsRating from object to numeric\n",
    "ratings = movies.rtAllCriticsRating.convert_objects(convert_numeric=True)\n",
    "\n",
    "# Deleting column with object data type\n",
    "del movies['rtAllCriticsRating']\n",
    "\n",
    "\n",
    "# Adding column with same values but in numeric form\n",
    "movies['rtAllCriticsRating'] = ratings"
   ]
  },
  {
   "cell_type": "code",
   "execution_count": 7,
   "metadata": {
    "collapsed": false
   },
   "outputs": [
    {
     "data": {
      "image/png": "[encoded data removed]",
      "text/plain": [
       "<matplotlib.figure.Figure at 0x118585cd0>"
      ]
     },
     "metadata": {},
     "output_type": "display_data"
    }
   ],
   "source": [
    "# Widening graph width\n",
    "plt.figure(figsize=(15,5))\n",
    "\n",
    "# Creating a subplot of matplotlib to incorporate required modifications\n",
    "ax = plt.subplot(111)\n",
    "\n",
    "# Hiding the right and top axes\n",
    "ax.spines['right'].set_visible(False)\n",
    "ax.spines['top'].set_visible(False)\n",
    "\n",
    "# Only show ticks on the left and bottom spines\n",
    "ax.yaxis.set_ticks_position('left')\n",
    "ax.xaxis.set_ticks_position('bottom')\n",
    "\n",
    "# Filtering for positive ratings and plotting scatterplot\n",
    "plt.scatter(movies.year[movies.rtAllCriticsRating>0], movies.rtAllCriticsRating[movies.rtAllCriticsRating>0])\n",
    "\n",
    "# Adjusting scale of Y-axis\n",
    "plt.ylim([movies.rtAllCriticsRating.min()-1,movies.rtAllCriticsRating.max()+1])\n",
    "# Adjusting scale of X-axis\n",
    "plt.xlim([movies.year.min()-1,movies.year.max()+1])\n",
    "\n",
    "# Grouping by movies on filter of positive critics\n",
    "tp = pd.DataFrame.groupby(movies[movies.rtAllCriticsRating>0], by = movies[movies.rtAllCriticsRating>0].year).mean()\n",
    "\n",
    "\n",
    "# Plotting line graph to show average critic rating per year\n",
    "plt.plot(tp.index, tp.rtAllCriticsRating, 'orange',  linewidth = 2)\n",
    "\n",
    "plt.xlabel(\"Year\")\n",
    "plt.ylabel(\"Average rating per movie\")\n",
    "plt.title(\"Average rating per movie as a function of year\")\n",
    "\n",
    "plt.show()"
   ]
  },
  {
   "cell_type": "markdown",
   "metadata": {},
   "source": [
    "By looking at the above graph, we understand that in general, the average rating per movie decreases with time because the line tends to go downward as the value in X-axis rises.\n",
    "\n",
    "This means, that on an average, the critics started being more strict in their ratings on a movie and with the number of movies increasing with time, the percentage of good movies in a year starts to decrease with these additional movies that do not manage to impress the critics."
   ]
  },
  {
   "cell_type": "markdown",
   "metadata": {},
   "source": [
    "---\n",
    "\n",
    "## Part 2: Naive Bayes\n",
    "\n",
    "Let us use a [Naive Bayes classifier](https://en.wikipedia.org/wiki/Naive_Bayes_classifier) to build a prediction model for whether a review is fresh or rotten, depending on the text of the review. Review the assigned readings on Canvas, as well as the relevant lecture notes before embarking on this journey.\n",
    "\n",
    "### Using CountVectorizer\n",
    "\n",
    "One thing that may help is the [CountVectorizer](http://scikit-learn.org/stable/modules/generated/sklearn.feature_extraction.text.CountVectorizer.html) object in Scikit-learn.  This will help you convert your raw text fields into \"bag of words\" vectors, i.e. a data structure that tells you how many times a particular word appears in a blurb.  Here's a simple example, make sure you understand what's going on!"
   ]
  },
  {
   "cell_type": "code",
   "execution_count": 8,
   "metadata": {
    "collapsed": false,
    "scrolled": true
   },
   "outputs": [
    {
     "name": "stdout",
     "output_type": "stream",
     "text": [
      "Original text is\n",
      "machine learning rocks\n",
      "machine learning rules\n",
      "rocks rocks rules\n",
      "\n",
      "Transformed text vector is \n",
      "[[1 1 1 0]\n",
      " [1 1 0 1]\n",
      " [0 0 2 1]]\n",
      "\n",
      "Words for each feature:\n",
      "[u'learning', u'machine', u'rocks', u'rules']\n"
     ]
    }
   ],
   "source": [
    "from sklearn.feature_extraction.text import CountVectorizer\n",
    "\n",
    "text = ['machine learning rocks', 'machine learning rules', 'rocks rocks rules']\n",
    "print \"Original text is\\n\", '\\n'.join(text)\n",
    "\n",
    "vectorizer = CountVectorizer(min_df=0)\n",
    "\n",
    "# call `fit` to build the vocabulary\n",
    "vectorizer.fit(text)\n",
    "\n",
    "# call `transform` to convert text to a bag of words\n",
    "x = vectorizer.transform(text)\n",
    "\n",
    "# CountVectorizer uses a sparse array to save memory, but it's easier in this assignment to \n",
    "# convert back to a \"normal\" numpy array\n",
    "x = x.toarray()\n",
    "\n",
    "print\n",
    "print \"Transformed text vector is \\n\", x\n",
    "\n",
    "# `get_feature_names` tracks which word is associated with each column of the transformed x\n",
    "print\n",
    "print \"Words for each feature:\"\n",
    "print vectorizer.get_feature_names()"
   ]
  },
  {
   "cell_type": "markdown",
   "metadata": {},
   "source": [
    "### 2.1 Create your X input and Y output\n",
    "\n",
    "Using the `reviews` dataframe, compute a pair of numerical X, Y arrays where:\n",
    "    \n",
    " * X is a `(nreview, nwords)` array. Each row corresponds to a bag-of-words representation for a single review. This will be the *input* to your model.\n",
    " * Y is a `nreview`-element 1/0 array, encoding whether a review is Fresh (1) or Rotten (0). This is the desired *output* from your model.\n",
    " \n",
    "Make sure to remove items with no review text"
   ]
  },
  {
   "cell_type": "code",
   "execution_count": 9,
   "metadata": {
    "collapsed": true
   },
   "outputs": [],
   "source": [
    "def make_xy(reviews, vectorizer=None):\n",
    "    temp = reviews.quote\n",
    "    # Create new only if vectorizer is none\n",
    "    if vectorizer is None:\n",
    "        vectorizer = CountVectorizer(min_df=0)\n",
    "    \n",
    "    X = vectorizer.fit_transform(temp)\n",
    "    Y = (reviews.fresh=='fresh').values.astype(np.int)\n",
    "    return X, Y"
   ]
  },
  {
   "cell_type": "code",
   "execution_count": 10,
   "metadata": {
    "collapsed": false
   },
   "outputs": [],
   "source": [
    "X, Y = make_xy(reviews)"
   ]
  },
  {
   "cell_type": "markdown",
   "metadata": {},
   "source": [
    "### 2.2 Test-Train split\n",
    "\n",
    "Next, randomly split the data into two groups: a training set and a validation set."
   ]
  },
  {
   "cell_type": "code",
   "execution_count": 11,
   "metadata": {
    "collapsed": false
   },
   "outputs": [],
   "source": [
    "train_X, test_X,train_Y, test_Y = sklearn.cross_validation.train_test_split(X,Y)"
   ]
  },
  {
   "cell_type": "markdown",
   "metadata": {},
   "source": [
    "### 2.3 Naive Bayes with `MultinomialNB`\n",
    "Use the training set to train a Naive Bayes classifier using the [`MultinomialNB`](http://scikit-learn.org/stable/modules/generated/sklearn.naive_bayes.MultinomialNB.html)\n",
    " object.  Report the accuracy of this model on both the training and testing data.  Let us also interpret the observations."
   ]
  },
  {
   "cell_type": "code",
   "execution_count": 12,
   "metadata": {
    "collapsed": false
   },
   "outputs": [
    {
     "name": "stdout",
     "output_type": "stream",
     "text": [
      "Performance of training set is = 92.4085850556 %\n",
      "Performance of test set is = 78.0625931446 %\n"
     ]
    }
   ],
   "source": [
    "fitted_model = sklearn.naive_bayes.MultinomialNB()\n",
    "\n",
    "fitted_model.fit(train_X,train_Y)\n",
    "\n",
    "print 'Performance of training set is =',(1-(abs(fitted_model.predict(train_X)-train_Y).sum())/float(len(train_Y)))*100,'%'\n",
    "\n",
    "print 'Performance of test set is =',(1-(abs(fitted_model.predict(test_X)-test_Y).sum())/float(len(test_Y)))*100,'%'"
   ]
  },
  {
   "cell_type": "markdown",
   "metadata": {},
   "source": [
    "Thus, we see that the accuracy of the Naive Bayes model implemented is great for the training data and average for the test data which means that training set achieves better performance as expected because the model is fit on that data and the test data has a decent performance too."
   ]
  },
  {
   "cell_type": "markdown",
   "metadata": {},
   "source": [
    "---\n",
    "\n",
    "## Part 3: Evaluation\n",
    "\n",
    "### 3.1 Estimate the likelihood of data\n",
    "\n",
    "Given a fitted model, we can compute the log-likelihood of our data as a way to assess the performance of our model.  Using `fitted_model.predict_logproba`, the idea is to write a function that computes the log-likelihood of a dataset, so that we can inspect the log-likelihood of our training and testing data given our fitted model from part 2."
   ]
  },
  {
   "cell_type": "code",
   "execution_count": 13,
   "metadata": {
    "collapsed": false
   },
   "outputs": [
    {
     "name": "stdout",
     "output_type": "stream",
     "text": [
      "Log likelihood of train is = -1895.08084044\n",
      "Log likelihood of test is = -1891.83976745\n"
     ]
    }
   ],
   "source": [
    "def log_likelihood(model, x, y):\n",
    "    prob = model.predict_log_proba(x)\n",
    "    rotten = y == 0\n",
    "    fresh = ~rotten\n",
    "    return prob[rotten, 0].sum() + prob[fresh, 1].sum()\n",
    "\n",
    "# output the likelihood of test data (example - we may need to \n",
    "# chance the nambes of the variables below to match our code in 2.2 and 2.3\n",
    "# the function becomes z2 or whatever which is after the fit\n",
    "print 'Log likelihood of train is =',log_likelihood(fitted_model, train_X, train_Y)\n",
    "print 'Log likelihood of test is =',log_likelihood(fitted_model, test_X, test_Y)"
   ]
  },
  {
   "cell_type": "markdown",
   "metadata": {},
   "source": [
    "### 3.2 Cross-Validation\n",
    "\n",
    "Why do we care about the log-likelihood of our data?  Cross-Validation.\n",
    "\n",
    "Our classifier has a few hyperparameters. The two most important are:\n",
    "\n",
    " 1. The `min_df` keyword in `CountVectorizer`, which will ignore words which appear in fewer than `min_df` fraction of reviews. Words that appear only once or twice can lead to overfitting, since words which occur only a few times might correlate very well with Fresh/Rotten reviews by chance in the training dataset.\n",
    " \n",
    " 2. The [`alpha` keyword](http://scikit-learn.org/stable/modules/naive_bayes.html#multinomial-naive-bayes) in the Bayesian classifier is a \"smoothing parameter\" -- increasing the value decreases the sensitivity to any single feature, and tends to pull prediction probabilities closer to 50%. \n",
    "\n",
    "How are we are going to use cross-validation to tune these hyperparameters?  The objective function we want to maximize is the log-likelihood of our data.  Fill in the remaining code in this block, to loop over many values of `alpha` and `min_df` to determine\n",
    "which settings are \"best\" in the sense of maximizing the cross-validated log-likelihood."
   ]
  },
  {
   "cell_type": "code",
   "execution_count": 14,
   "metadata": {
    "collapsed": false
   },
   "outputs": [],
   "source": [
    "#the grid of parameters to search over\n",
    "alphas = [0, .1, 1, 5, 10, 50]\n",
    "min_dfs = [1e-5, 1e-4, 1e-3, 1e-2, 1e-1]\n",
    "\n",
    "\n",
    "#Find the best value for alpha and min_df, and the best classifier\n",
    "best_alpha = None\n",
    "best_min_df = None\n",
    "max_loglike = -np.inf\n",
    "\n",
    "\n",
    "for alpha in alphas:\n",
    "    for min_df in min_dfs:         \n",
    "        vectorizer = CountVectorizer(min_df = min_df)       \n",
    "        ## Finding input and output \n",
    "        X, Y = make_xy(reviews, vectorizer)\n",
    "        ## Fitting model on the same\n",
    "        model = sklearn.naive_bayes.MultinomialNB(alpha=alpha).fit(X,Y)\n",
    "        ## Calculating loglike score \n",
    "        score = sklearn.cross_validation.cross_val_score(model, X,Y,cv=5, scoring=log_likelihood).mean()\n",
    "        ## if higher value for loglike, update best_min_df and best_alpha\n",
    "        if score>max_loglike:\n",
    "            max_loglike = score\n",
    "            best_alpha = alpha\n",
    "            best_min_df = min_df"
   ]
  },
  {
   "cell_type": "markdown",
   "metadata": {},
   "source": [
    "### 3.3 Putting it together\n",
    "\n",
    "Now that we've determined values for alpha and min_df that optimize the cross-validated log-likelihood, repeat the steps in 2.1-2.3 to train a final classifier with these parameters and re-evaluate the accuracy.  Discuss the various ways in which Cross-Validation has affected the model. Is the new model more or less accurate? Is overfitting better or worse?"
   ]
  },
  {
   "cell_type": "code",
   "execution_count": 15,
   "metadata": {
    "collapsed": false
   },
   "outputs": [],
   "source": [
    "## Using given value for min_df while building input and output\n",
    "def make_xy_1(reviews, min_df, vectorizer=None):\n",
    "    temp = reviews.quote\n",
    "    ## Using the input value of min_df\n",
    "    if vectorizer is None:\n",
    "        vectorizer = CountVectorizer(min_df=min_df)\n",
    "    \n",
    "    X = vectorizer.fit_transform(temp)\n",
    "    Y = (reviews.fresh=='fresh').values.astype(np.int)\n",
    "    ## Stores all words in 'names' array for further use\n",
    "    names = np.array(vectorizer.get_feature_names())\n",
    "    return X, Y,names"
   ]
  },
  {
   "cell_type": "code",
   "execution_count": 16,
   "metadata": {
    "collapsed": false
   },
   "outputs": [],
   "source": [
    "X_1,Y_1, names = make_xy_1(reviews,best_min_df)\n",
    "\n",
    "train_X_1, test_X_1,train_Y_1, test_Y_1 = sklearn.cross_validation.train_test_split(X_1,Y_1)"
   ]
  },
  {
   "cell_type": "code",
   "execution_count": 17,
   "metadata": {
    "collapsed": false
   },
   "outputs": [
    {
     "name": "stdout",
     "output_type": "stream",
     "text": [
      "Performance of training set is = 79.083863275 %\n",
      "Performance of test set is = 73.4724292101 %\n"
     ]
    }
   ],
   "source": [
    "fitted_model_1 = sklearn.naive_bayes.MultinomialNB(alpha=best_alpha)\n",
    "\n",
    "fitted_model_1.fit(train_X_1,train_Y_1)\n",
    "\n",
    "print 'Performance of training set is =',(1-(abs(fitted_model_1.predict(train_X_1)-train_Y_1).sum())/float(len(train_Y_1)))*100,'%'\n",
    "\n",
    "print 'Performance of test set is =',(1-(abs(fitted_model_1.predict(test_X_1)-test_Y_1).sum())/float(len(test_Y_1)))*100,'%'"
   ]
  },
  {
   "cell_type": "code",
   "execution_count": 18,
   "metadata": {
    "collapsed": false
   },
   "outputs": [
    {
     "name": "stdout",
     "output_type": "stream",
     "text": [
      "-4469.31507838\n",
      "-1861.11618673\n"
     ]
    }
   ],
   "source": [
    "print log_likelihood(fitted_model_1, train_X_1, train_Y_1)\n",
    "print log_likelihood(fitted_model_1, test_X_1, test_Y_1)"
   ]
  },
  {
   "cell_type": "markdown",
   "metadata": {},
   "source": [
    "Thus, we see that when the best values of alpha and min_df are used, it causes an overfit of data, which eventually hampers the performance of the naive bayes model constructed using these values. Overfitting is worse and here, we observe the same because the performance decreases in this case because this model is less accurate."
   ]
  },
  {
   "cell_type": "markdown",
   "metadata": {},
   "source": [
    "### 3.4 Other score of measure\n",
    "\n",
    "What happens if we tried this again using a function besides the log-likelihood -- for example, the classification accuracy?  Interpret these results"
   ]
  },
  {
   "cell_type": "code",
   "execution_count": 19,
   "metadata": {
    "collapsed": true
   },
   "outputs": [],
   "source": [
    "def measure_score(model,x,y):\n",
    "    return model.score(x,y)"
   ]
  },
  {
   "cell_type": "code",
   "execution_count": 20,
   "metadata": {
    "collapsed": false
   },
   "outputs": [],
   "source": [
    "#Find the best value for alpha and min_df, and the best classifier\n",
    "best_alpha_1 = None\n",
    "best_min_df_1 = None\n",
    "max_score = -np.inf\n",
    "\n",
    "\n",
    "for alpha_1 in alphas:\n",
    "    for min_df_1 in min_dfs:         \n",
    "        vectorizer_1 = CountVectorizer(min_df = min_df_1)       \n",
    "        X, Y = make_xy(reviews, vectorizer_1)\n",
    "        model = sklearn.naive_bayes.MultinomialNB(alpha=alpha_1).fit(X,Y)\n",
    "        score = sklearn.cross_validation.cross_val_score(model, X,Y,cv=5, scoring=measure_score).mean()\n",
    "        if score>max_score:\n",
    "            max_score = score\n",
    "            best_alpha_1 = alpha\n",
    "            best_min_df_1 = min_df_1"
   ]
  },
  {
   "cell_type": "code",
   "execution_count": 21,
   "metadata": {
    "collapsed": false
   },
   "outputs": [
    {
     "name": "stdout",
     "output_type": "stream",
     "text": [
      "Performance of training set is = 62.589427663 %\n",
      "Performance of test set is = 62.652757079 %\n"
     ]
    }
   ],
   "source": [
    "# Using new value of min_df\n",
    "X_2,Y_2, names_1 = make_xy_1(reviews,best_min_df_1)\n",
    "\n",
    "# Re-splitting into train and test accordingly\n",
    "train_X_2, test_X_2,train_Y_2, test_Y_2 = sklearn.cross_validation.train_test_split(X_2,Y_2)\n",
    "\n",
    "## New NB model\n",
    "fitted_model_2 = sklearn.naive_bayes.MultinomialNB(alpha=best_alpha_1)\n",
    "\n",
    "## fitting the model\n",
    "fitted_model_2.fit(train_X_2,train_Y_2)\n",
    "\n",
    "print 'Performance of training set is =',(1-(abs(fitted_model_2.predict(train_X_2)-train_Y_2).sum())/float(len(train_Y_2)))*100,'%'\n",
    "\n",
    "print 'Performance of test set is =',(1-(abs(fitted_model_2.predict(test_X_2)-test_Y_2).sum())/float(len(test_Y_2)))*100,'%'"
   ]
  },
  {
   "cell_type": "markdown",
   "metadata": {},
   "source": [
    "Instead of sum of probabilities, I use the mean in the 'measure' function as it takes into account the number of rows as well which is an important feature that should be considered while measuring the performance of a model.  Thus, we see that this approach gives us a slight worse performance of the model on both, training and test sets because it further increases the impact of overfitting the data."
   ]
  },
  {
   "cell_type": "markdown",
   "metadata": {},
   "source": [
    "### 3.5 Interpretation\n",
    "\n",
    "What words best predict a fresh or rotten review?  Using our classifier and the `vectorizer.get_feature_names` method, determine which words best predict a positive or negative review. Print the 10 words that best predict a \"fresh\" review, and the 10 words that best predict a \"rotten\" review. For each word, what is the model's probability of freshness if the word appears one time?\n",
    "\n",
    "#### Hints\n",
    "* In thinking about how to measure the impact of a word on freshness rating, consider computing the classification probability for a feature vector which consists of all 0s, except for a single 1. What does this probability refer to?\n",
    "* `numpy.identity` generates an identity matrix, where all values are zero except the diagonal elements which have a value of one"
   ]
  },
  {
   "cell_type": "code",
   "execution_count": 22,
   "metadata": {
    "collapsed": false
   },
   "outputs": [
    {
     "name": "stdout",
     "output_type": "stream",
     "text": [
      "Positive review -\n",
      "   probability         word\n",
      "0     0.097751  masterpiece\n",
      "1     0.099969        witty\n",
      "2     0.121914      delight\n",
      "3     0.124050     touching\n",
      "4     0.125146     funniest\n",
      "5     0.135959      complex\n",
      "6     0.135959        smart\n",
      "7     0.139615  intelligent\n",
      "8     0.139991    enjoyable\n",
      "9     0.145482     exciting\n",
      "\n",
      "Negative review-\n",
      "   probability            word\n",
      "0     0.749354            poor\n",
      "1     0.762470        tiresome\n",
      "2     0.775873  disappointment\n",
      "3     0.778109           bland\n",
      "4     0.790640      uninspired\n",
      "5     0.790640         unfunny\n",
      "6     0.812837            lame\n",
      "7     0.819225       pointless\n",
      "8     0.828726            dull\n",
      "9     0.856721   unfortunately\n"
     ]
    }
   ],
   "source": [
    "from pandas import DataFrame\n",
    "\n",
    "## Identity matrix\n",
    "id_matrix = np.identity(test_X_1.shape[1])\n",
    "\n",
    "## Probability of freshness will be 1st column of p\n",
    "p = fitted_model_1.predict_proba(id_matrix)[:,0]\n",
    "\n",
    "# Sorting in ascending order\n",
    "index = np.argsort(p)\n",
    "\n",
    "# First 10 = fresh\n",
    "fresh_words = names[index[:10]]\n",
    "\n",
    "# Last 10 = bottom\n",
    "rotten_words = names[index[-10:]]\n",
    "\n",
    "\n",
    "# Respective probabilties of fresh\n",
    "fresh_prob = p[index[:10]]\n",
    "\n",
    "# Respective probabilties of rotten\n",
    "rotten_prob = p[index[-10:]]\n",
    "\n",
    "## Fresh data frame\n",
    "fresh = {'word':fresh_words, 'probability':fresh_prob}\n",
    "fresh = DataFrame(data = fresh)\n",
    "\n",
    "\n",
    "## Rotten data frame\n",
    "rotten = {'word':rotten_words, 'probability':rotten_prob} \n",
    "rotten = DataFrame(data = rotten)\n",
    "\n",
    "print 'Positive review -'\n",
    "print fresh\n",
    "print\n",
    "print 'Negative review-'\n",
    "print rotten"
   ]
  },
  {
   "cell_type": "markdown",
   "metadata": {},
   "source": [
    "Thus, we find the top 10 words that occur in positive and negative reviews based on the classification probability for a feature vector which consists of all 0s, except for a single 1 because it uses an identity matrix for calculating this which has only 1 in each row and all others 0s."
   ]
  },
  {
   "cell_type": "markdown",
   "metadata": {},
   "source": [
    "### 3.6 Error Analysis\n",
    "\n",
    "One of the best sources for inspiration when trying to improve a model is to look at examples where the model performs poorly.  Find 5 fresh and rotten reviews where our model performs particularly poorly. Print each review.\n",
    "\n",
    "What is noteworthy about these mis-predictions? Naive Bayes classifiers assume that every word affects the probability independently of other words. In what way is this a bad assumption? Let us report our classifier's Freshness probability for the review \"This movie is not remarkable, touching, or superb in any way\"."
   ]
  },
  {
   "cell_type": "code",
   "execution_count": 23,
   "metadata": {
    "collapsed": false
   },
   "outputs": [
    {
     "name": "stdout",
     "output_type": "stream",
     "text": [
      "Mismatched quotes in rotten category:\n",
      "\n",
      "1. It survives today only as an unusually pure example of a typical 50s art-film strategy: the attempt to make the most modern and most popular of art forms acceptable to the intelligentsia by forcing it into an arcane, antique mold.\n",
      "\n",
      "2. It is sometimes funny in a puzzling kind of way, it is generally overwrought in an irritating kind of way, and once in a while it is inappropriately touching.\n",
      "\n",
      "3. Walken is one of the few undeniably charismatic male villains of recent years; he can generate a snakelike charm that makes his worst characters the most memorable, and here he operates on pure style.\n",
      "\n",
      "4. Lauded as a witty moral fable with a revelatory performance from its star, this romantic comedy is in fact meretricious, manipulative and reactionary.\n",
      "\n",
      "5. With its feints at horror and pathos, the third Star Wars film is the most Disney-esque in its emotional outline, yet that outline is buried beneath an obnoxiously hyped-up pace that reduces the emotions to rubble.\n",
      "\n",
      "\n",
      "Mismatched quotes in fresh category:\n",
      "\n",
      "1. Certain, probably arrested, personalities (like mine) just find this kind of sh*t pretty funny and any attempt to talk your way around that is, as Cartman would say, blowing bubbles out your *ss.\n",
      "\n",
      "2. Though it's a good half hour too long, this overblown 1993 spin-off of the 60s TV show otherwise adds up to a pretty good suspense thriller.\n",
      "\n",
      "3. There's too much talent and too strong a story to mess it up. There was potential for more here, but this incarnation is nothing to be ashamed of, and some of the actors answer the bell.\n",
      "\n",
      "4. Some of the gags don't work, but fewer than in any previous Brooks film that I've seen, and when the jokes are meant to be bad, they are riotously poor. What more can one ask of Mel Brooks?\n",
      "\n",
      "5. Might it be a serious attempt to right some unretrievable wrong via gallows humor which avoids the polemics? This seems to be the course taken; the attempt at least can be respected in theory.\n",
      "\n"
     ]
    },
    {
     "name": "stderr",
     "output_type": "stream",
     "text": [
      "/Users/rohanmanojthakkar/anaconda/lib/python2.7/site-packages/ipykernel/__main__.py:19: FutureWarning: irow(i) is deprecated. Please use .iloc[i] or .iat[i]\n",
      "/Users/rohanmanojthakkar/anaconda/lib/python2.7/site-packages/ipykernel/__main__.py:28: FutureWarning: irow(i) is deprecated. Please use .iloc[i] or .iat[i]\n"
     ]
    }
   ],
   "source": [
    "# Predicting probabilties on earlier variables (before extra credit)\n",
    "prob = fitted_model_1.predict_proba(X_1)[:, 0]\n",
    "\n",
    "# Predicting based on model\n",
    "predict = fitted_model_1.predict(X_1)\n",
    "\n",
    "## Top 5 rows on sorting are fresh but wrongly predicted as rotten\n",
    "poor_rotten = np.argsort(prob[Y_1 == 0])[:5]\n",
    "\n",
    "## Top 5 rows on sorting are rotten but wrongly predicted as fresh\n",
    "poor_fresh = np.argsort(prob[Y_1 == 1])[-5:]\n",
    "\n",
    "print \"Mismatched quotes in rotten category:\"\n",
    "print\n",
    "count = 0;\n",
    "\n",
    "for row in poor_rotten:\n",
    "    count += 1\n",
    "    print str(count) + \". \" + reviews[Y_1 == 0].quote.irow(row)\n",
    "    print\n",
    "\n",
    "print\n",
    "print \"Mismatched quotes in fresh category:\"\n",
    "print\n",
    "count = 0;\n",
    "for row in poor_fresh:\n",
    "    count += 1\n",
    "    print str(count) + \". \" + reviews[Y_1 == 1].quote.irow(row)\n",
    "    print"
   ]
  },
  {
   "cell_type": "markdown",
   "metadata": {},
   "source": [
    "Thus,we see that the assumption made by Naive Bayes that every word affects the probability independently of other words is a bad one because the meaning of word is contextual. For example, two negatives in the same context mean a positive and it is inaccurate to consider a review as negative in such cases."
   ]
  },
  {
   "cell_type": "code",
   "execution_count": 24,
   "metadata": {
    "collapsed": false
   },
   "outputs": [
    {
     "name": "stdout",
     "output_type": "stream",
     "text": [
      "Freshness probability of the string \" This movie is not remarkable, touching, or superb in any way \" is 0.022460269845\n"
     ]
    }
   ],
   "source": [
    "# Taking input string\n",
    "string_in = 'This movie is not remarkable, touching, or superb in any way'\n",
    "\n",
    "# Converting to series to apply function\n",
    "string = pd.Series(string_in)\n",
    "\n",
    "\n",
    "# Using earlier value of best_min_df for vectorizer\n",
    "vectorizer = CountVectorizer(min_df=best_min_df)\n",
    "\n",
    "## Fitting dictionary\n",
    "vectorizer.fit(reviews.quote)\n",
    "\n",
    "# New X array of 1 row by input string\n",
    "x_new = vectorizer.transform(string)\n",
    "\n",
    "# Probability of freshness\n",
    "print 'Freshness probability of the string \"',string_in,'\" is',float(fitted_model_1.predict_proba(x_new)[:,0])"
   ]
  }
 ],
 "metadata": {
  "kernelspec": {
   "display_name": "Python [default]",
   "language": "python",
   "name": "python2"
  },
  "language_info": {
   "codemirror_mode": {
    "name": "ipython",
    "version": 2
   },
   "file_extension": ".py",
   "mimetype": "text/x-python",
   "name": "python",
   "nbconvert_exporter": "python",
   "pygments_lexer": "ipython2",
   "version": "2.7.12"
  }
 },
 "nbformat": 4,
 "nbformat_minor": 0
}
